{
 "cells": [
  {
   "cell_type": "code",
   "execution_count": 1,
   "id": "94789a4b",
   "metadata": {},
   "outputs": [
    {
     "name": "stdout",
     "output_type": "stream",
     "text": [
      "Original DataFrame:\n",
      "      name   age   Salary\n",
      "0    Alice  25.0  50000.0\n",
      "1      Bob   NaN  60000.0\n",
      "2  Charlie  35.0      NaN\n",
      "3    David  40.0  80000.0\n",
      "4      Eve   NaN      NaN\n"
     ]
    },
    {
     "name": "stderr",
     "output_type": "stream",
     "text": [
      "C:\\Users\\VaMp!r3\\AppData\\Local\\Temp\\ipykernel_17704\\1791606353.py:17: FutureWarning: A value is trying to be set on a copy of a DataFrame or Series through chained assignment using an inplace method.\n",
      "The behavior will change in pandas 3.0. This inplace method will never work because the intermediate object on which we are setting values always behaves as a copy.\n",
      "\n",
      "For example, when doing 'df[col].method(value, inplace=True)', try using 'df.method({col: value}, inplace=True)' or df[col] = df[col].method(value) instead, to perform the operation inplace on the original object.\n",
      "\n",
      "\n",
      "  df['age'].fillna(df['age'].mean(),inplace=True)\n",
      "C:\\Users\\VaMp!r3\\AppData\\Local\\Temp\\ipykernel_17704\\1791606353.py:18: FutureWarning: A value is trying to be set on a copy of a DataFrame or Series through chained assignment using an inplace method.\n",
      "The behavior will change in pandas 3.0. This inplace method will never work because the intermediate object on which we are setting values always behaves as a copy.\n",
      "\n",
      "For example, when doing 'df[col].method(value, inplace=True)', try using 'df.method({col: value}, inplace=True)' or df[col] = df[col].method(value) instead, to perform the operation inplace on the original object.\n",
      "\n",
      "\n",
      "  df['Salary'].fillna(df['Salary'].mean(),inplace=True)\n"
     ]
    },
    {
     "data": {
      "text/html": [
       "<div>\n",
       "<style scoped>\n",
       "    .dataframe tbody tr th:only-of-type {\n",
       "        vertical-align: middle;\n",
       "    }\n",
       "\n",
       "    .dataframe tbody tr th {\n",
       "        vertical-align: top;\n",
       "    }\n",
       "\n",
       "    .dataframe thead th {\n",
       "        text-align: right;\n",
       "    }\n",
       "</style>\n",
       "<table border=\"1\" class=\"dataframe\">\n",
       "  <thead>\n",
       "    <tr style=\"text-align: right;\">\n",
       "      <th></th>\n",
       "      <th>name</th>\n",
       "      <th>age</th>\n",
       "      <th>Salary</th>\n",
       "    </tr>\n",
       "  </thead>\n",
       "  <tbody>\n",
       "    <tr>\n",
       "      <th>0</th>\n",
       "      <td>Alice</td>\n",
       "      <td>25.000000</td>\n",
       "      <td>50000.000000</td>\n",
       "    </tr>\n",
       "    <tr>\n",
       "      <th>1</th>\n",
       "      <td>Bob</td>\n",
       "      <td>33.333333</td>\n",
       "      <td>60000.000000</td>\n",
       "    </tr>\n",
       "    <tr>\n",
       "      <th>2</th>\n",
       "      <td>Charlie</td>\n",
       "      <td>35.000000</td>\n",
       "      <td>63333.333333</td>\n",
       "    </tr>\n",
       "    <tr>\n",
       "      <th>3</th>\n",
       "      <td>David</td>\n",
       "      <td>40.000000</td>\n",
       "      <td>80000.000000</td>\n",
       "    </tr>\n",
       "    <tr>\n",
       "      <th>4</th>\n",
       "      <td>Eve</td>\n",
       "      <td>33.333333</td>\n",
       "      <td>63333.333333</td>\n",
       "    </tr>\n",
       "  </tbody>\n",
       "</table>\n",
       "</div>"
      ],
      "text/plain": [
       "      name        age        Salary\n",
       "0    Alice  25.000000  50000.000000\n",
       "1      Bob  33.333333  60000.000000\n",
       "2  Charlie  35.000000  63333.333333\n",
       "3    David  40.000000  80000.000000\n",
       "4      Eve  33.333333  63333.333333"
      ]
     },
     "execution_count": 1,
     "metadata": {},
     "output_type": "execute_result"
    }
   ],
   "source": [
    "import pandas as pd\n",
    "import numpy as np\n",
    "\n",
    "data = {\n",
    "    'name': ['Alice', 'Bob', 'Charlie', 'David', 'Eve'],\n",
    "    'age': [25, None, 35, 40,None],\n",
    "    'Salary': [50000, 60000, None, 80000, None],\n",
    "}\n",
    "\n",
    "df = pd.DataFrame(data)\n",
    "print(\"Original DataFrame:\")\n",
    "print(df)\n",
    "\n",
    "df.isnull().sum()\n",
    "df.dropna()\n",
    "\n",
    "df['age'].fillna(df['age'].mean(),inplace=True)\n",
    "df['Salary'].fillna(df['Salary'].mean(),inplace=True)\n",
    "\n",
    "df\n"
   ]
  },
  {
   "cell_type": "code",
   "execution_count": 2,
   "id": "0a60e8da",
   "metadata": {},
   "outputs": [
    {
     "name": "stdout",
     "output_type": "stream",
     "text": [
      "DataFrame after handling missing values:\n",
      "     Name  Gender Passed  Gender_Encoded  Passed_Encoded  City_Banglore  \\\n",
      "0    Aman    Male    Yes               1               1              0   \n",
      "1   Priya  Female    Yes               0               1              0   \n",
      "2   Rahul    Male     No               1               0              1   \n",
      "3  Anjali  Female    Yes               0               1              0   \n",
      "4    Ravi    Male     No               1               0              0   \n",
      "\n",
      "   City_Dehli  City_Mumbai  \n",
      "0           1            0  \n",
      "1           0            1  \n",
      "2           0            0  \n",
      "3           0            1  \n",
      "4           1            0  \n"
     ]
    }
   ],
   "source": [
    "import pandas as pd\n",
    "from sklearn.preprocessing import LabelEncoder\n",
    "\n",
    "df = pd.read_excel('Book1.xlsx')\n",
    "\n",
    "df_label_encoded = df.copy()\n",
    "le = LabelEncoder()\n",
    "\n",
    "df_label_encoded['Gender_Encoded'] = le.fit_transform(df_label_encoded['Gender'])\n",
    "df_label_encoded['Passed_Encoded'] = le.fit_transform(df_label_encoded['Passed'])\n",
    "\n",
    "\n",
    "df_encoded = pd.get_dummies(df_label_encoded, columns=['City'])\n",
    "\n",
    "bool_cols = ['City_Banglore', 'City_Dehli', 'City_Mumbai']\n",
    "df_encoded[bool_cols] = df_encoded[bool_cols].astype(int)\n",
    "\n",
    "print(\"DataFrame after handling missing values:\")\n",
    "print(df_encoded)"
   ]
  },
  {
   "cell_type": "code",
   "execution_count": 3,
   "id": "6c648107",
   "metadata": {},
   "outputs": [
    {
     "ename": "TypeError",
     "evalue": "TransformerMixin.fit_transform() missing 1 required positional argument: 'X'",
     "output_type": "error",
     "traceback": [
      "\u001b[31m---------------------------------------------------------------------------\u001b[39m",
      "\u001b[31mTypeError\u001b[39m                                 Traceback (most recent call last)",
      "\u001b[36mCell\u001b[39m\u001b[36m \u001b[39m\u001b[32mIn[3]\u001b[39m\u001b[32m, line 4\u001b[39m\n\u001b[32m      1\u001b[39m \u001b[38;5;28;01mfrom\u001b[39;00m\u001b[38;5;250m \u001b[39m\u001b[34;01msklearn\u001b[39;00m\u001b[34;01m.\u001b[39;00m\u001b[34;01mpreprocessing\u001b[39;00m\u001b[38;5;250m \u001b[39m\u001b[38;5;28;01mimport\u001b[39;00m StandardScaler, MinMaxScaler\n\u001b[32m      3\u001b[39m scaler = StandardScaler()\n\u001b[32m----> \u001b[39m\u001b[32m4\u001b[39m X_scaled = \u001b[43mscaler\u001b[49m\u001b[43m.\u001b[49m\u001b[43mfit_transform\u001b[49m\u001b[43m(\u001b[49m\u001b[43m)\u001b[49m\n\u001b[32m      6\u001b[39m scaler = MinMaxScaler()\n\u001b[32m      7\u001b[39m x_scaled = scaler.fit_transform()\n",
      "\u001b[31mTypeError\u001b[39m: TransformerMixin.fit_transform() missing 1 required positional argument: 'X'"
     ]
    }
   ],
   "source": [
    "from sklearn.preprocessing import StandardScaler, MinMaxScaler\n",
    "\n",
    "scaler = StandardScaler()\n",
    "X_scaled = scaler.fit_transform()\n",
    "\n",
    "scaler = MinMaxScaler()\n",
    "x_scaled = scaler.fit_transform()\n",
    "\n"
   ]
  },
  {
   "cell_type": "code",
   "execution_count": null,
   "id": "9ae8e302",
   "metadata": {},
   "outputs": [
    {
     "name": "stdout",
     "output_type": "stream",
     "text": [
      "Standard Scaled Output\n",
      "   Study_hours  Exam_score\n",
      "0       -1.375   -1.414214\n",
      "1       -0.750   -0.707107\n",
      "2       -0.125    0.000000\n",
      "3        1.125    0.707107\n",
      "4        1.125    1.414214\n",
      "MinMax Scaled Output\n",
      "   Study_hours  Exam_score\n",
      "0         0.00        0.00\n",
      "1         0.25        0.25\n",
      "2         0.50        0.50\n",
      "3         1.00        0.75\n",
      "4         1.00        1.00\n",
      "Train set:\n",
      "   Study_hours\n",
      "4            5\n",
      "2            3\n",
      "0            1\n",
      "3            5    Exam_score\n",
      "4          80\n",
      "2          60\n",
      "0          40\n",
      "3          70\n",
      "Test set:\n",
      "   Study_hours\n",
      "1            2    Exam_score\n",
      "1          50\n"
     ]
    }
   ],
   "source": [
    "import pandas as pd\n",
    "from sklearn.preprocessing import StandardScaler, MinMaxScaler\n",
    "from sklearn.model_selection import train_test_split\n",
    "\n",
    "data = {\n",
    "    'Study_hours': [1, 2, 3, 5, 5],\n",
    "    'Exam_score': [40, 50, 60, 70, 80]\n",
    "}\n",
    "\n",
    "df = pd.DataFrame(data)\n",
    "\n",
    "StandardScaler= StandardScaler()\n",
    "StandardScaled = StandardScaler.fit_transform(df)\n",
    "print(\"Standard Scaled Output\")\n",
    "print(pd.DataFrame(StandardScaled, columns=df.columns))\n",
    "\n",
    "MinMaxScaler = MinMaxScaler()\n",
    "MinMaxScaled = MinMaxScaler.fit_transform(df)\n",
    "print(\"MinMax Scaled Output\")\n",
    "print(pd.DataFrame(MinMaxScaled, columns=df.columns))\n",
    "\n",
    "X = df[['Study_hours']]\n",
    "y = df[['Exam_score']]\n",
    "\n",
    "X_train, X_test, y_train, y_test = train_test_split(X, y, test_size=0.2, random_state=42)\n",
    "print(\"Train set:\")\n",
    "print(X_train, y_train)\n",
    "print(\"Test set:\")\n",
    "print(X_test, y_test)\n",
    "\n"
   ]
  },
  {
   "cell_type": "code",
   "execution_count": null,
   "id": "e52a3d6e",
   "metadata": {},
   "outputs": [
    {
     "name": "stdout",
     "output_type": "stream",
     "text": [
      "     Name  Gender Passed  Gender_Encoded  Passed_Encoded  City_Banglore  \\\n",
      "0    Aman    Male    Yes               1               1              0   \n",
      "1   Priya  Female    Yes               0               1              0   \n",
      "2   Rahul    Male     No               1               0              1   \n",
      "3  Anjali  Female    Yes               0               1              0   \n",
      "4    Ravi    Male     No               1               0              0   \n",
      "\n",
      "   City_Dehli  City_Mumbai  Gender_Encoded_std  Passed_Encoded_std  \\\n",
      "0           1            0            0.816497            0.816497   \n",
      "1           0            1           -1.224745            0.816497   \n",
      "2           0            0            0.816497           -1.224745   \n",
      "3           0            1           -1.224745            0.816497   \n",
      "4           1            0            0.816497           -1.224745   \n",
      "\n",
      "   City_Banglore_std  City_Dehli_std  City_Mumbai_std  Gender_Encoded_minmax  \\\n",
      "0               -0.5        1.224745        -0.816497                    1.0   \n",
      "1               -0.5       -0.816497         1.224745                    0.0   \n",
      "2                2.0       -0.816497        -0.816497                    1.0   \n",
      "3               -0.5       -0.816497         1.224745                    0.0   \n",
      "4               -0.5        1.224745        -0.816497                    1.0   \n",
      "\n",
      "   Passed_Encoded_minmax  City_Banglore_minmax  City_Dehli_minmax  \\\n",
      "0                    1.0                   0.0                1.0   \n",
      "1                    1.0                   0.0                0.0   \n",
      "2                    0.0                   1.0                0.0   \n",
      "3                    1.0                   0.0                0.0   \n",
      "4                    0.0                   0.0                1.0   \n",
      "\n",
      "   City_Mumbai_minmax  \n",
      "0                 0.0  \n",
      "1                 1.0  \n",
      "2                 0.0  \n",
      "3                 1.0  \n",
      "4                 0.0  \n"
     ]
    }
   ],
   "source": [
    "from sklearn.preprocessing import StandardScaler, MinMaxScaler\n",
    "\n",
    "# If you're using df_encoded, make sure to assign it\n",
    "df = df_encoded  # use the encoded DataFrame\n",
    "\n",
    "# Strip extra spaces just in case\n",
    "df.columns = df.columns.str.strip() \n",
    "\n",
    "# Columns you want to scale\n",
    "cols_to_scale = ['Gender_Encoded', 'Passed_Encoded', 'City_Banglore', 'City_Dehli', 'City_Mumbai']\n",
    "\n",
    "# Standard Scaling\n",
    "scaler_standard = StandardScaler()\n",
    "standard_scaled = scaler_standard.fit_transform(df[cols_to_scale])\n",
    "df_standard = pd.DataFrame(standard_scaled, columns=[col + '_std' for col in cols_to_scale])\n",
    "\n",
    "# MinMax Scaling\n",
    "scaler_minmax = MinMaxScaler()\n",
    "minmax_scaled = scaler_minmax.fit_transform(df[cols_to_scale])\n",
    "df_minmax = pd.DataFrame(minmax_scaled, columns=[col + '_minmax' for col in cols_to_scale])\n",
    "\n",
    "# Combine original + scaled\n",
    "df_final = pd.concat([df, df_standard, df_minmax], axis=1)\n",
    "\n",
    "# Show result\n",
    "print(df_final)\n",
    "\n",
    "\n",
    "\n",
    "\n",
    "\n",
    "\n",
    "\n"
   ]
  },
  {
   "cell_type": "code",
   "execution_count": null,
   "id": "ece547b9",
   "metadata": {},
   "outputs": [
    {
     "ename": "KeyError",
     "evalue": "\"None of [Index(['Gender_Encoded', 'Passed_Encoded', 'City_Banglore', 'City_Dehli',\\n       'City_Mumbai'],\\n      dtype='object')] are in the [columns]\"",
     "output_type": "error",
     "traceback": [
      "\u001b[31m---------------------------------------------------------------------------\u001b[39m",
      "\u001b[31mKeyError\u001b[39m                                  Traceback (most recent call last)",
      "\u001b[36mCell\u001b[39m\u001b[36m \u001b[39m\u001b[32mIn[20]\u001b[39m\u001b[32m, line 2\u001b[39m\n\u001b[32m      1\u001b[39m scaler = StandardScaler()\n\u001b[32m----> \u001b[39m\u001b[32m2\u001b[39m scaled_standard = scaler.fit_transform(\u001b[43mdf\u001b[49m\u001b[43m[\u001b[49m\u001b[43mcols_to_scale\u001b[49m\u001b[43m]\u001b[49m)\n\u001b[32m      4\u001b[39m df_standard = pd.DataFrame(scaled_standard, columns=cols_to_scale)\n\u001b[32m      5\u001b[39m \u001b[38;5;28mprint\u001b[39m(\u001b[33m\"\u001b[39m\u001b[33mStandard Scaled Data:\u001b[39m\u001b[33m\"\u001b[39m)\n",
      "\u001b[36mFile \u001b[39m\u001b[32md:\\Ai and Ds\\.venv\\Lib\\site-packages\\pandas\\core\\frame.py:4113\u001b[39m, in \u001b[36mDataFrame.__getitem__\u001b[39m\u001b[34m(self, key)\u001b[39m\n\u001b[32m   4111\u001b[39m     \u001b[38;5;28;01mif\u001b[39;00m is_iterator(key):\n\u001b[32m   4112\u001b[39m         key = \u001b[38;5;28mlist\u001b[39m(key)\n\u001b[32m-> \u001b[39m\u001b[32m4113\u001b[39m     indexer = \u001b[38;5;28;43mself\u001b[39;49m\u001b[43m.\u001b[49m\u001b[43mcolumns\u001b[49m\u001b[43m.\u001b[49m\u001b[43m_get_indexer_strict\u001b[49m\u001b[43m(\u001b[49m\u001b[43mkey\u001b[49m\u001b[43m,\u001b[49m\u001b[43m \u001b[49m\u001b[33;43m\"\u001b[39;49m\u001b[33;43mcolumns\u001b[39;49m\u001b[33;43m\"\u001b[39;49m\u001b[43m)\u001b[49m[\u001b[32m1\u001b[39m]\n\u001b[32m   4115\u001b[39m \u001b[38;5;66;03m# take() does not accept boolean indexers\u001b[39;00m\n\u001b[32m   4116\u001b[39m \u001b[38;5;28;01mif\u001b[39;00m \u001b[38;5;28mgetattr\u001b[39m(indexer, \u001b[33m\"\u001b[39m\u001b[33mdtype\u001b[39m\u001b[33m\"\u001b[39m, \u001b[38;5;28;01mNone\u001b[39;00m) == \u001b[38;5;28mbool\u001b[39m:\n",
      "\u001b[36mFile \u001b[39m\u001b[32md:\\Ai and Ds\\.venv\\Lib\\site-packages\\pandas\\core\\indexes\\base.py:6212\u001b[39m, in \u001b[36mIndex._get_indexer_strict\u001b[39m\u001b[34m(self, key, axis_name)\u001b[39m\n\u001b[32m   6209\u001b[39m \u001b[38;5;28;01melse\u001b[39;00m:\n\u001b[32m   6210\u001b[39m     keyarr, indexer, new_indexer = \u001b[38;5;28mself\u001b[39m._reindex_non_unique(keyarr)\n\u001b[32m-> \u001b[39m\u001b[32m6212\u001b[39m \u001b[38;5;28;43mself\u001b[39;49m\u001b[43m.\u001b[49m\u001b[43m_raise_if_missing\u001b[49m\u001b[43m(\u001b[49m\u001b[43mkeyarr\u001b[49m\u001b[43m,\u001b[49m\u001b[43m \u001b[49m\u001b[43mindexer\u001b[49m\u001b[43m,\u001b[49m\u001b[43m \u001b[49m\u001b[43maxis_name\u001b[49m\u001b[43m)\u001b[49m\n\u001b[32m   6214\u001b[39m keyarr = \u001b[38;5;28mself\u001b[39m.take(indexer)\n\u001b[32m   6215\u001b[39m \u001b[38;5;28;01mif\u001b[39;00m \u001b[38;5;28misinstance\u001b[39m(key, Index):\n\u001b[32m   6216\u001b[39m     \u001b[38;5;66;03m# GH 42790 - Preserve name from an Index\u001b[39;00m\n",
      "\u001b[36mFile \u001b[39m\u001b[32md:\\Ai and Ds\\.venv\\Lib\\site-packages\\pandas\\core\\indexes\\base.py:6261\u001b[39m, in \u001b[36mIndex._raise_if_missing\u001b[39m\u001b[34m(self, key, indexer, axis_name)\u001b[39m\n\u001b[32m   6259\u001b[39m \u001b[38;5;28;01mif\u001b[39;00m nmissing:\n\u001b[32m   6260\u001b[39m     \u001b[38;5;28;01mif\u001b[39;00m nmissing == \u001b[38;5;28mlen\u001b[39m(indexer):\n\u001b[32m-> \u001b[39m\u001b[32m6261\u001b[39m         \u001b[38;5;28;01mraise\u001b[39;00m \u001b[38;5;167;01mKeyError\u001b[39;00m(\u001b[33mf\u001b[39m\u001b[33m\"\u001b[39m\u001b[33mNone of [\u001b[39m\u001b[38;5;132;01m{\u001b[39;00mkey\u001b[38;5;132;01m}\u001b[39;00m\u001b[33m] are in the [\u001b[39m\u001b[38;5;132;01m{\u001b[39;00maxis_name\u001b[38;5;132;01m}\u001b[39;00m\u001b[33m]\u001b[39m\u001b[33m\"\u001b[39m)\n\u001b[32m   6263\u001b[39m     not_found = \u001b[38;5;28mlist\u001b[39m(ensure_index(key)[missing_mask.nonzero()[\u001b[32m0\u001b[39m]].unique())\n\u001b[32m   6264\u001b[39m     \u001b[38;5;28;01mraise\u001b[39;00m \u001b[38;5;167;01mKeyError\u001b[39;00m(\u001b[33mf\u001b[39m\u001b[33m\"\u001b[39m\u001b[38;5;132;01m{\u001b[39;00mnot_found\u001b[38;5;132;01m}\u001b[39;00m\u001b[33m not in index\u001b[39m\u001b[33m\"\u001b[39m)\n",
      "\u001b[31mKeyError\u001b[39m: \"None of [Index(['Gender_Encoded', 'Passed_Encoded', 'City_Banglore', 'City_Dehli',\\n       'City_Mumbai'],\\n      dtype='object')] are in the [columns]\""
     ]
    }
   ],
   "source": [
    "scaler = StandardScaler()\n",
    "scaled_standard = scaler.fit_transform(df[cols_to_scale])\n",
    "\n",
    "df_standard = pd.DataFrame(scaled_standard, columns=cols_to_scale)\n",
    "print(\"Standard Scaled Data:\")\n",
    "print(df_standard)\n"
   ]
  },
  {
   "cell_type": "code",
   "execution_count": null,
   "id": "a1fb6b88",
   "metadata": {},
   "outputs": [
    {
     "name": "stdout",
     "output_type": "stream",
     "text": [
      "c:\\Users\\VaMp!r3\\AppData\\Local\\Programs\\Python\\Python313\\python.exe\n"
     ]
    }
   ],
   "source": [
    "import sys\n",
    "print(sys.executable)\n"
   ]
  },
  {
   "cell_type": "code",
   "execution_count": null,
   "id": "ac12216e",
   "metadata": {},
   "outputs": [
    {
     "name": "stdout",
     "output_type": "stream",
     "text": [
      "Scikit-learn is working!\n"
     ]
    }
   ],
   "source": [
    "from sklearn.preprocessing import StandardScaler\n",
    "print(\"Scikit-learn is working!\")\n",
    "\n"
   ]
  },
  {
   "cell_type": "code",
   "execution_count": null,
   "id": "6db24306",
   "metadata": {},
   "outputs": [],
   "source": [
    " "
   ]
  }
 ],
 "metadata": {
  "kernelspec": {
   "display_name": ".venv",
   "language": "python",
   "name": "python3"
  },
  "language_info": {
   "codemirror_mode": {
    "name": "ipython",
    "version": 3
   },
   "file_extension": ".py",
   "mimetype": "text/x-python",
   "name": "python",
   "nbconvert_exporter": "python",
   "pygments_lexer": "ipython3",
   "version": "3.13.0"
  }
 },
 "nbformat": 4,
 "nbformat_minor": 5
}
